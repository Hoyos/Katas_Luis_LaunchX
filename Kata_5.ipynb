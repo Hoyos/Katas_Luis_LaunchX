{
 "cells": [
  {
   "cell_type": "markdown",
   "metadata": {},
   "source": [
    "#Ejercicio 1\n",
    "Distancia entre mundos"
   ]
  },
  {
   "cell_type": "code",
   "execution_count": 1,
   "metadata": {},
   "outputs": [
    {
     "name": "stdout",
     "output_type": "stream",
     "text": [
      "Distancias entre júpiter y tierra es de: 628949330 km\n",
      "Distancia en millas: 390577533.93 miles\n"
     ]
    }
   ],
   "source": [
    "dis_tierra = 149597870 \n",
    "dis_jupiter = 778547200\n",
    "distancia = dis_tierra-dis_jupiter\n",
    "print(\"Distancias entre júpiter y tierra es de:\",abs(distancia),\"km\")\n",
    "dis_millas = abs(distancia*0.621)\n",
    "print(\"Distancia en millas:\",dis_millas,\"miles\")"
   ]
  },
  {
   "cell_type": "markdown",
   "metadata": {},
   "source": [
    "#Ejercicio2\n",
    "Distancia al sol"
   ]
  },
  {
   "cell_type": "code",
   "execution_count": 3,
   "metadata": {},
   "outputs": [
    {
     "name": "stdout",
     "output_type": "stream",
     "text": [
      "Distancias entre ambos planetas es de: 1622600000\n",
      "Distancia en millas es de: 390577533.93\n"
     ]
    }
   ],
   "source": [
    "planet_1 = input(\"Introduce la distancia al sol del primer planeta:\\n\")\n",
    "planet_2 = input(\"Introduce la distancia al sol del segundo planeta:\\n\")\n",
    "planet_1 = int(planet_1)\n",
    "planet_2 = int(planet_2)\n",
    "dis_planetas = abs(planet_1 - planet_2)\n",
    "print(\"Distancias entre ambos planetas es de:\",dis_planetas)\n",
    "millas = dis_planetas*0.621\n",
    "print(\"Distancia en millas es de:\",dis_millas)\n"
   ]
  }
 ],
 "metadata": {
  "interpreter": {
   "hash": "2be5faf79681da6f2a61fdfdd5405d65d042280f7fba6178067603e3a2925119"
  },
  "kernelspec": {
   "display_name": "Python 3.10.2 64-bit",
   "language": "python",
   "name": "python3"
  },
  "language_info": {
   "codemirror_mode": {
    "name": "ipython",
    "version": 3
   },
   "file_extension": ".py",
   "mimetype": "text/x-python",
   "name": "python",
   "nbconvert_exporter": "python",
   "pygments_lexer": "ipython3",
   "version": "3.10.2"
  },
  "orig_nbformat": 4
 },
 "nbformat": 4,
 "nbformat_minor": 2
}
